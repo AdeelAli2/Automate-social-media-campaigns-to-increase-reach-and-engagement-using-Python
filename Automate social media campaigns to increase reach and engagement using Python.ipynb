{
 "cells": [
  {
   "cell_type": "code",
   "execution_count": null,
   "id": "8fe64469",
   "metadata": {},
   "outputs": [],
   "source": [
    "# Import necessary libraries\n",
    "import tweepy\n",
    "import time\n",
    "\n",
    "# Twitter API credentials\n",
    "consumer_key = \"YOUR_CONSUMER_KEY\"\n",
    "consumer_secret = \"YOUR_CONSUMER_SECRET\"\n",
    "access_token = \"YOUR_ACCESS_TOKEN\"\n",
    "access_token_secret = \"YOUR_ACCESS_TOKEN_SECRET\"\n",
    "\n",
    "# Authenticate and connect to Twitter API\n",
    "auth = tweepy.OAuthHandler(consumer_key, consumer_secret)\n",
    "auth.set_access_token(access_token, access_token_secret)\n",
    "api = tweepy.API(auth)\n",
    "\n",
    "# Post a tweet\n",
    "api.update_status(\"Hello, World!\")\n",
    "\n",
    "# Search for tweets and like them\n",
    "search_term = \"Python\"\n",
    "tweets = api.search(q=search_term, count=10)\n",
    "for tweet in tweets:\n",
    "    try:\n",
    "        api.create_favorite(tweet.id)\n",
    "        time.sleep(5)\n",
    "    except tweepy.TweepError as e:\n",
    "        print(e.reason)\n",
    "\n",
    "# Follow users who tweet about a certain topic\n",
    "search_term = \"Python\"\n",
    "tweets = api.search(q=search_term, count=10)\n",
    "for tweet in tweets:\n",
    "    try:\n",
    "        api.create_friendship(tweet.user.id)\n",
    "        time.sleep(5)\n",
    "    except tweepy.TweepError as e:\n",
    "        print(e.reason)"
   ]
  }
 ],
 "metadata": {
  "kernelspec": {
   "display_name": "Python 3 (ipykernel)",
   "language": "python",
   "name": "python3"
  },
  "language_info": {
   "codemirror_mode": {
    "name": "ipython",
    "version": 3
   },
   "file_extension": ".py",
   "mimetype": "text/x-python",
   "name": "python",
   "nbconvert_exporter": "python",
   "pygments_lexer": "ipython3",
   "version": "3.11.2"
  }
 },
 "nbformat": 4,
 "nbformat_minor": 5
}
